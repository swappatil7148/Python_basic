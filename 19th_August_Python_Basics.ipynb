{
 "cells": [
  {
   "cell_type": "code",
   "execution_count": 16,
   "id": "b1e08f6d-0026-482a-a1f1-716ba4414c80",
   "metadata": {},
   "outputs": [
    {
     "name": "stdin",
     "output_type": "stream",
     "text": [
      "Enter the first Value  30\n",
      "Enter the second Value  40\n"
     ]
    }
   ],
   "source": [
    "#TOPIC: Python Basics Variable\n",
    "#1) Declare two variables, `x` and `y`, and assign them integer values. Swap the values of these variables without using any temporary variable.\n",
    "\n",
    "a = int(input(\"Enter the first Value \"))\n",
    "b = int(input(\"Enter the second Value \"))\n",
    "a,b = b,a\n"
   ]
  },
  {
   "cell_type": "code",
   "execution_count": 17,
   "id": "7bfffe90-3ea8-4827-a280-7017630372fc",
   "metadata": {},
   "outputs": [
    {
     "data": {
      "text/plain": [
       "40"
      ]
     },
     "execution_count": 17,
     "metadata": {},
     "output_type": "execute_result"
    }
   ],
   "source": [
    "a"
   ]
  },
  {
   "cell_type": "code",
   "execution_count": 18,
   "id": "82574843-c1c3-4c91-9704-635ec06306bb",
   "metadata": {},
   "outputs": [
    {
     "data": {
      "text/plain": [
       "30"
      ]
     },
     "execution_count": 18,
     "metadata": {},
     "output_type": "execute_result"
    }
   ],
   "source": [
    "b"
   ]
  },
  {
   "cell_type": "code",
   "execution_count": 19,
   "id": "3bac5ecb-56e5-4471-82b4-a154f168e0d3",
   "metadata": {},
   "outputs": [
    {
     "name": "stdin",
     "output_type": "stream",
     "text": [
      "Enter length of the area :  30\n",
      "Enter width of the area :  40\n"
     ]
    },
    {
     "name": "stdout",
     "output_type": "stream",
     "text": [
      "1200\n"
     ]
    }
   ],
   "source": [
    "#2. Create a program that calculates the area of a rectangle. Take the length and width as inputs from the user and store them in variables. Calculate and display the area.\n",
    "\n",
    "Length = int(input(\"Enter length of the area : \"))\n",
    "Width = int(input(\"Enter width of the area : \"))\n",
    "\n",
    "Area = Length*Width\n",
    "print(Area)"
   ]
  },
  {
   "cell_type": "code",
   "execution_count": 21,
   "id": "d0eca298-8979-4472-89b6-6c8556fc7b58",
   "metadata": {},
   "outputs": [
    {
     "name": "stdin",
     "output_type": "stream",
     "text": [
      "Enter the Temperature in Celsius : 30\n"
     ]
    },
    {
     "name": "stdout",
     "output_type": "stream",
     "text": [
      "Temperature in Fahrenheit : 86.0\n"
     ]
    }
   ],
   "source": [
    "#3. Write a Python program that converts temperatures from Celsius to Fahrenheit. Take the temperature in Celsius as input, store it in a variable, convert it to Fahrenheit, and display the result.\n",
    "\n",
    "Celsius = int(input(\"Enter the Temperature in Celsius :\"))\n",
    "Fahrenheit = (1.8 * Celsius) + 32\n",
    "print(\"Temperature in Fahrenheit :\", Fahrenheit)"
   ]
  },
  {
   "cell_type": "code",
   "execution_count": 22,
   "id": "02475637-18c9-4523-9d86-cedbbc2bc7d3",
   "metadata": {},
   "outputs": [
    {
     "name": "stdin",
     "output_type": "stream",
     "text": [
      "Enter the string : ajay\n"
     ]
    },
    {
     "name": "stdout",
     "output_type": "stream",
     "text": [
      "4\n"
     ]
    }
   ],
   "source": [
    "#TOPIC: String Based Questions\n",
    "\n",
    "#1. Write a Python program that takes a string as input and prints the length of the string.\n",
    "\n",
    "name = input(\"Enter the string :\")\n",
    "length = len(name)\n",
    "print(length)"
   ]
  },
  {
   "cell_type": "code",
   "execution_count": 27,
   "id": "cd38d0d9-6b4d-4d66-bcfe-7511dea55052",
   "metadata": {},
   "outputs": [
    {
     "name": "stdin",
     "output_type": "stream",
     "text": [
      "Enter the string : Swapnil\n"
     ]
    },
    {
     "name": "stdout",
     "output_type": "stream",
     "text": [
      "String in reverse order charactor : linpawS\n"
     ]
    }
   ],
   "source": [
    "#3. Given a string, reverse the order of characters using string slicing and print the reversed string.\n",
    "\n",
    "string = input(\"Enter the string :\")\n",
    "rev_ord = string[::-1]\n",
    "print(\"String in reverse order charactor : \" + rev_ord)"
   ]
  },
  {
   "cell_type": "code",
   "execution_count": 31,
   "id": "4695945c-25ff-4f91-9ff0-9812c9316620",
   "metadata": {},
   "outputs": [
    {
     "name": "stdout",
     "output_type": "stream",
     "text": [
      "Hello, World!\n"
     ]
    }
   ],
   "source": [
    "text = \"   Hello, World!   \"\n",
    "\n",
    "trimmed_text = text.strip()\n",
    "\n",
    "print(trimmed_text)"
   ]
  },
  {
   "cell_type": "code",
   "execution_count": null,
   "id": "2768f983-f49f-4df9-b9ad-6ba3b8473d63",
   "metadata": {},
   "outputs": [],
   "source": []
  }
 ],
 "metadata": {
  "kernelspec": {
   "display_name": "Python 3 (ipykernel)",
   "language": "python",
   "name": "python3"
  },
  "language_info": {
   "codemirror_mode": {
    "name": "ipython",
    "version": 3
   },
   "file_extension": ".py",
   "mimetype": "text/x-python",
   "name": "python",
   "nbconvert_exporter": "python",
   "pygments_lexer": "ipython3",
   "version": "3.10.8"
  }
 },
 "nbformat": 4,
 "nbformat_minor": 5
}
